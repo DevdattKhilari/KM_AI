{
 "cells": [
  {
   "cell_type": "code",
   "execution_count": 9,
   "metadata": {
    "id": "FtEIe2eNAvGG"
   },
   "outputs": [
    {
     "ename": "ModuleNotFoundError",
     "evalue": "No module named 'seaborn'",
     "output_type": "error",
     "traceback": [
      "\u001b[1;31m---------------------------------------------------------------------------\u001b[0m",
      "\u001b[1;31mModuleNotFoundError\u001b[0m                       Traceback (most recent call last)",
      "Cell \u001b[1;32mIn[9], line 6\u001b[0m\n\u001b[0;32m      4\u001b[0m \u001b[38;5;28;01mimport\u001b[39;00m \u001b[38;5;21;01mpandas\u001b[39;00m \u001b[38;5;28;01mas\u001b[39;00m \u001b[38;5;21;01mpd\u001b[39;00m\n\u001b[0;32m      5\u001b[0m \u001b[38;5;28;01mimport\u001b[39;00m \u001b[38;5;21;01mmatplotlib\u001b[39;00m\u001b[38;5;21;01m.\u001b[39;00m\u001b[38;5;21;01mpyplot\u001b[39;00m \u001b[38;5;28;01mas\u001b[39;00m \u001b[38;5;21;01mplt\u001b[39;00m\n\u001b[1;32m----> 6\u001b[0m \u001b[38;5;28;01mimport\u001b[39;00m \u001b[38;5;21;01mseaborn\u001b[39;00m \u001b[38;5;28;01mas\u001b[39;00m \u001b[38;5;21;01msns\u001b[39;00m\n",
      "\u001b[1;31mModuleNotFoundError\u001b[0m: No module named 'seaborn'"
     ]
    }
   ],
   "source": [
    "# importing necessary libraries \n",
    "\n",
    "import numpy as np\n",
    "import pandas as pd\n",
    "import matplotlib.pyplot as plt\n",
    "import seaborn as sns\n"
   ]
  },
  {
   "cell_type": "code",
   "execution_count": null,
   "metadata": {
    "id": "QlFU5GzNCLGo"
   },
   "outputs": [],
   "source": [
    "# loading the dataset\n",
    "\n",
    "crop_data=pd.read_csv(\"Crop_recommendation.csv\")\n",
    "crop_data"
   ]
  },
  {
   "cell_type": "code",
   "execution_count": null,
   "metadata": {
    "colab": {
     "base_uri": "https://localhost:8080/"
    },
    "id": "TCCZqMyfI3qj",
    "outputId": "e4fddce3-468f-4689-dda1-98a6c779fa78"
   },
   "outputs": [],
   "source": [
    "crop_data.shape\n",
    "\n",
    "#rows X columns"
   ]
  },
  {
   "cell_type": "code",
   "execution_count": null,
   "metadata": {},
   "outputs": [],
   "source": [
    "crop_data.info()"
   ]
  },
  {
   "cell_type": "code",
   "execution_count": null,
   "metadata": {
    "colab": {
     "base_uri": "https://localhost:8080/",
     "height": 178
    },
    "id": "vJM7qEq3wEEb",
    "outputId": "a147e6db-4b6b-448c-c950-1a9dadb7ef5a"
   },
   "outputs": [],
   "source": [
    "# dataset columns\n",
    "crop_data.columns"
   ]
  },
  {
   "cell_type": "code",
   "execution_count": null,
   "metadata": {},
   "outputs": [],
   "source": [
    "crop_data.rename(columns = {'label':'Crop'}, inplace = True)\n",
    "crop_data"
   ]
  },
  {
   "cell_type": "code",
   "execution_count": null,
   "metadata": {
    "colab": {
     "base_uri": "https://localhost:8080/",
     "height": 297
    },
    "id": "1xDyXRn_S-8I",
    "outputId": "c178c432-3227-4909-97ae-155d045df728"
   },
   "outputs": [],
   "source": [
    "# statistical inference of the dataset\n",
    "\n",
    "crop_data.describe()"
   ]
  },
  {
   "cell_type": "code",
   "execution_count": null,
   "metadata": {
    "colab": {
     "base_uri": "https://localhost:8080/"
    },
    "id": "etWFlfIWWdbC",
    "outputId": "da1e9f9d-7be3-4f1e-82c5-2c13d90d6004"
   },
   "outputs": [],
   "source": [
    "# Checking missing values of the dataset in each column\n",
    "crop_data.isnull().sum()"
   ]
  },
  {
   "cell_type": "code",
   "execution_count": null,
   "metadata": {
    "colab": {
     "base_uri": "https://localhost:8080/",
     "height": 419
    },
    "id": "dJXZbZ3kWl2y",
    "outputId": "966857aa-75e4-4ff3-f243-bca316011054"
   },
   "outputs": [],
   "source": [
    "# Dropping missing values \n",
    "crop_data = crop_data.dropna()\n",
    "crop_data"
   ]
  },
  {
   "cell_type": "code",
   "execution_count": null,
   "metadata": {
    "colab": {
     "base_uri": "https://localhost:8080/"
    },
    "id": "9fxHSTNWW59i",
    "outputId": "16b91af3-7003-4f9b-8d6c-3ecd70bd9099"
   },
   "outputs": [],
   "source": [
    "#checking\n",
    "crop_data.isnull().values.any()\n"
   ]
  },
  {
   "cell_type": "code",
   "execution_count": null,
   "metadata": {},
   "outputs": [],
   "source": [
    "# Visualizing the features\n",
    "\n",
    "ax = sns.pairplot(crop_data)\n",
    "ax"
   ]
  },
  {
   "cell_type": "code",
   "execution_count": null,
   "metadata": {},
   "outputs": [],
   "source": [
    "crop_data.Crop.unique()"
   ]
  },
  {
   "cell_type": "code",
   "execution_count": null,
   "metadata": {},
   "outputs": [],
   "source": [
    "# get top 5 most frequent growing crops\n",
    "n = 5\n",
    "crop_data['Crop'].value_counts()[:5].index.tolist()"
   ]
  },
  {
   "cell_type": "code",
   "execution_count": null,
   "metadata": {},
   "outputs": [],
   "source": [
    "sns.barplot(crop_data[\"Crop\"], crop_data[\"temperature\"])\n",
    "plt.xticks(rotation = 90)"
   ]
  },
  {
   "cell_type": "code",
   "execution_count": null,
   "metadata": {},
   "outputs": [],
   "source": [
    "sns.barplot(crop_data[\"Crop\"], crop_data[\"ph\"])\n",
    "plt.xticks(rotation = 90)"
   ]
  },
  {
   "cell_type": "code",
   "execution_count": null,
   "metadata": {},
   "outputs": [],
   "source": [
    "sns.barplot(crop_data[\"Crop\"], crop_data[\"humidity\"])\n",
    "plt.xticks(rotation = 90)"
   ]
  },
  {
   "cell_type": "code",
   "execution_count": null,
   "metadata": {},
   "outputs": [],
   "source": [
    "sns.barplot(crop_data[\"Crop\"], crop_data[\"rainfall\"])\n",
    "plt.xticks(rotation = 90)"
   ]
  },
  {
   "cell_type": "code",
   "execution_count": null,
   "metadata": {},
   "outputs": [],
   "source": [
    "crop_data.corr()"
   ]
  },
  {
   "cell_type": "code",
   "execution_count": null,
   "metadata": {},
   "outputs": [],
   "source": [
    "sns.heatmap(crop_data.corr(), annot =True)\n",
    "plt.title('Correlation Matrix')"
   ]
  },
  {
   "cell_type": "code",
   "execution_count": null,
   "metadata": {},
   "outputs": [],
   "source": [
    "# Shuffling data to remove order effects\n",
    "\n",
    "# shuffling the dataset to remove order\n",
    "from sklearn.utils import shuffle\n",
    "\n",
    "df  = shuffle(crop_data,random_state=5)\n",
    "df.head()"
   ]
  },
  {
   "cell_type": "code",
   "execution_count": 25,
   "metadata": {},
   "outputs": [],
   "source": [
    "# Selection of Feature and Target variables.\n",
    "\n",
    "x = df[['N', 'P','K','temperature', 'humidity', 'ph', 'rainfall']]\n",
    "target = df['Crop']"
   ]
  },
  {
   "cell_type": "code",
   "execution_count": null,
   "metadata": {
    "scrolled": true
   },
   "outputs": [],
   "source": [
    "# Encoding target variable \n",
    "\n",
    "y = pd.get_dummies(target)\n",
    "y"
   ]
  },
  {
   "cell_type": "code",
   "execution_count": null,
   "metadata": {},
   "outputs": [],
   "source": [
    "# Splitting data set - 25% test dataset and 75% \n",
    "\n",
    "\n",
    "from sklearn.model_selection import train_test_split\n",
    "\n",
    "x_train,x_test,y_train,y_test = train_test_split(x,y,test_size=0.25, random_state= 0)\n",
    "\n",
    "print(\"x_train :\",x_train.shape)\n",
    "print(\"x_test :\",x_test.shape)\n",
    "print(\"y_train :\",y_train.shape)\n",
    "print(\"y_test :\",y_test.shape)"
   ]
  },
  {
   "cell_type": "code",
   "execution_count": 28,
   "metadata": {},
   "outputs": [],
   "source": [
    "# Importing necessary libraries for multi-output classification\n",
    "\n",
    "from sklearn.datasets import make_classification\n",
    "from sklearn.multioutput import MultiOutputClassifier\n",
    "from sklearn.ensemble import RandomForestClassifier"
   ]
  },
  {
   "cell_type": "code",
   "execution_count": null,
   "metadata": {},
   "outputs": [],
   "source": [
    "# Training\n",
    "\n",
    "forest = RandomForestClassifier(random_state=1)\n",
    "multi_target_forest = MultiOutputClassifier(forest, n_jobs=-1)\n",
    "multi_target_forest.fit(x_train, y_train)"
   ]
  },
  {
   "cell_type": "code",
   "execution_count": null,
   "metadata": {},
   "outputs": [],
   "source": [
    "# Predicting test results \n",
    "\n",
    "forest_pred = multi_target_forest.predict(x_test)\n",
    "forest_pred"
   ]
  },
  {
   "cell_type": "code",
   "execution_count": null,
   "metadata": {},
   "outputs": [],
   "source": [
    "# Calculating Accuracy\n",
    "\n",
    "from sklearn.metrics import accuracy_score\n",
    "a1 = accuracy_score(y_test, forest_pred)\n",
    "print('Accuracy score:', accuracy_score(y_test, forest_pred))"
   ]
  },
  {
   "cell_type": "markdown",
   "metadata": {},
   "source": [
    "<b> Cross-validation </b>"
   ]
  },
  {
   "cell_type": "code",
   "execution_count": null,
   "metadata": {},
   "outputs": [],
   "source": [
    "from sklearn.model_selection import cross_val_score\n",
    "score = cross_val_score(multi_target_forest,X = x_train, y = y_train,cv=5)\n",
    "score"
   ]
  },
  {
   "cell_type": "code",
   "execution_count": null,
   "metadata": {},
   "outputs": [],
   "source": [
    "b1 = \"{:.2f}\".format(score.mean()*100)\n",
    "b1 = float(b1)\n",
    "b1"
   ]
  },
  {
   "cell_type": "code",
   "execution_count": null,
   "metadata": {},
   "outputs": [],
   "source": [
    "c1 = (score.std()*100)\n",
    "c1"
   ]
  },
  {
   "cell_type": "code",
   "execution_count": null,
   "metadata": {},
   "outputs": [],
   "source": [
    "print(\"Accuracy : {:.2f}%\".format (score.mean()*100))\n",
    "print(\"Standard Deviation : {:.2f}%\".format(score.std()*100))"
   ]
  },
  {
   "cell_type": "code",
   "execution_count": null,
   "metadata": {},
   "outputs": [],
   "source": [
    "# Training\n",
    "from sklearn.tree import DecisionTreeClassifier\n",
    "\n",
    "clf = DecisionTreeClassifier(random_state=6)\n",
    "multi_target_decision = MultiOutputClassifier(clf, n_jobs=-1)\n",
    "multi_target_decision.fit(x_train, y_train)"
   ]
  },
  {
   "cell_type": "code",
   "execution_count": null,
   "metadata": {},
   "outputs": [],
   "source": [
    "# Predicting test results \n",
    "\n",
    "decision_pred = multi_target_decision.predict(x_test)\n",
    "decision_pred"
   ]
  },
  {
   "cell_type": "code",
   "execution_count": null,
   "metadata": {},
   "outputs": [],
   "source": [
    "# Calculating Accuracy\n",
    "\n",
    "from sklearn.metrics import accuracy_score\n",
    "a2 = accuracy_score(y_test,decision_pred)\n",
    "print('Accuracy score:', accuracy_score(y_test,decision_pred))\n",
    "a2"
   ]
  },
  {
   "cell_type": "markdown",
   "metadata": {},
   "source": [
    "<b> Cross-validation </b>  "
   ]
  },
  {
   "cell_type": "code",
   "execution_count": null,
   "metadata": {},
   "outputs": [],
   "source": [
    "from sklearn.model_selection import cross_val_score\n",
    "score = cross_val_score(multi_target_decision,X = x_train, y = y_train,cv=7)\n",
    "score"
   ]
  },
  {
   "cell_type": "code",
   "execution_count": null,
   "metadata": {},
   "outputs": [],
   "source": [
    "b2 = \"{:.2f}\".format(score.mean()*100)\n",
    "b2 = float(b2)\n",
    "b2"
   ]
  },
  {
   "cell_type": "code",
   "execution_count": null,
   "metadata": {},
   "outputs": [],
   "source": [
    "c2 = (score.std()*100)\n",
    "c2"
   ]
  },
  {
   "cell_type": "code",
   "execution_count": null,
   "metadata": {},
   "outputs": [],
   "source": [
    "from sklearn.neighbors import KNeighborsClassifier\n",
    "\n",
    "knn_clf=KNeighborsClassifier()\n",
    "model = MultiOutputClassifier(knn_clf, n_jobs=-1)\n",
    "model.fit(x_train, y_train)"
   ]
  },
  {
   "cell_type": "code",
   "execution_count": null,
   "metadata": {},
   "outputs": [],
   "source": [
    "knn_pred = model.predict(x_test)\n",
    "knn_pred"
   ]
  },
  {
   "cell_type": "code",
   "execution_count": null,
   "metadata": {},
   "outputs": [],
   "source": [
    "# Calculating Accuracy\n",
    "\n",
    "from sklearn.metrics import accuracy_score\n",
    "a3 = accuracy_score(y_test,knn_pred)\n",
    "print('Accuracy score:', accuracy_score(y_test,knn_pred))\n",
    "a3"
   ]
  },
  {
   "cell_type": "markdown",
   "metadata": {},
   "source": [
    "<b> Cross validation </b>"
   ]
  },
  {
   "cell_type": "code",
   "execution_count": null,
   "metadata": {},
   "outputs": [],
   "source": [
    "from sklearn.model_selection import cross_val_score\n",
    "score = cross_val_score(model,X = x_train, y = y_train,cv=7)\n",
    "score"
   ]
  },
  {
   "cell_type": "code",
   "execution_count": null,
   "metadata": {},
   "outputs": [],
   "source": [
    "b3 = \"{:.2f}\".format(score.mean()*100)\n",
    "b3 = float(b3)\n",
    "b3"
   ]
  },
  {
   "cell_type": "code",
   "execution_count": null,
   "metadata": {},
   "outputs": [],
   "source": [
    "c3 = (score.std()*100)\n",
    "c3"
   ]
  },
  {
   "cell_type": "code",
   "execution_count": null,
   "metadata": {},
   "outputs": [],
   "source": [
    "import pandas as pd\n",
    " \n",
    "# initialise data of lists.\n",
    "data = {'Algorithms':['Random Forest', 'Decision-tree', 'KNN Classifier'],\n",
    "        'Accuracy':[b1, b2, b3],\n",
    "        'Standard Deviation':[c1,c2,c3]}\n",
    " \n",
    "# Creates pandas DataFrame.\n",
    "df = pd.DataFrame(data)\n",
    " \n",
    "# print the data\n",
    "df"
   ]
  },
  {
   "cell_type": "code",
   "execution_count": null,
   "metadata": {},
   "outputs": [],
   "source": [
    "import numpy as np\n",
    "import matplotlib.pyplot as plt\n",
    " \n",
    "# create a dataset\n",
    "Algorithms = ['Random Forest', 'Decision-tree','KNN Classifier']\n",
    "Accuracy = [b1, b2, b3]\n",
    "\n",
    "x_pos = np.arange(len(Accuracy))\n",
    "\n",
    "# Create bars with different colors\n",
    "plt.bar(x_pos, Accuracy, color=['#488AC7','#ff8c00','#009150'])\n",
    "\n",
    "# Create names on the x-axis\n",
    "plt.xticks(x_pos, Algorithms)\n",
    "plt.ylabel('Accuracy(in %)')\n",
    "plt.xlabel('Machine Learning Classifying Techniques')\n",
    "\n",
    "# Show graph\n",
    "plt.show()"
   ]
  },
  {
   "cell_type": "code",
   "execution_count": null,
   "metadata": {},
   "outputs": [],
   "source": [
    "import numpy as np\n",
    "import matplotlib.pyplot as plt\n",
    " \n",
    "# create a dataset\n",
    "Algorithms = ['Random Forest', 'Decision-tree','KNN Classifier']\n",
    "Accuracy = [b1, b2, b3]\n",
    "\n",
    "x_pos = np.arange(len(Accuracy))\n",
    "\n",
    "# Create bars with different colors\n",
    "plt.bar(x_pos, Accuracy, color=['#488AC7','#ff8c00','#009150'])\n",
    "\n",
    "# Create names on the x-axis\n",
    "plt.xticks(x_pos, Algorithms)\n",
    "plt.ylabel('Accuracy(in %)')\n",
    "plt.xlabel('Machine Learning Classifying Techniques')\n",
    "\n",
    "# Show graph\n",
    "plt.show()"
   ]
  },
  {
   "cell_type": "code",
   "execution_count": null,
   "metadata": {},
   "outputs": [],
   "source": [
    "import numpy as np\n",
    "import matplotlib.pyplot as plt\n",
    " \n",
    "# create a dataset\n",
    "Algorithms = ['Random Forest', 'Decision-tree','KNN']\n",
    "Accuracy = [c1, c2, c3]\n",
    "\n",
    "x_pos = np.arange(len(Accuracy))\n",
    "\n",
    "# Create bars with different colors\n",
    "plt.bar(x_pos, Accuracy, color= ['#488AC7','#ff8c00','#009150'])\n",
    "\n",
    "# Create names on the x-axis\n",
    "plt.xticks(x_pos, Algorithms)\n",
    "plt.ylabel('Standard Deviation(in %)')\n",
    "plt.xlabel('Machine Learning Classifying Techniques')\n",
    "\n",
    "# Show graph\n",
    "plt.show()"
   ]
  },
  {
   "cell_type": "code",
   "execution_count": null,
   "metadata": {},
   "outputs": [],
   "source": []
  },
  {
   "cell_type": "code",
   "execution_count": null,
   "metadata": {},
   "outputs": [],
   "source": [
    "def addlabels(x,y):\n",
    "    for i in range(len(x)):\n",
    "        plt.text(i,y[i],y[i],ha = 'center')\n",
    "  \n",
    "if __name__ == '__main__':\n",
    "    # creating data on which bar chart will be plot\n",
    "    x = [\"Random Forest\", \"Decision tree\", \"KNN\"]\n",
    "    y = [b1,b2,b3]\n",
    "\n",
    "\n",
    "    x_pos = np.arange(len(y))\n",
    "\n",
    "    # Create bars with different colors\n",
    "    plt.bar(x_pos, y, color= ['#A52A2A','#00008B','#2E8B57'])\n",
    "      \n",
    "    # calling the function to add value labels\n",
    "    addlabels(x, y)\n",
    "      \n",
    "    # giving X and Y labels\n",
    "    plt.xlabel(\"Machine Learning Classifying Algorithms\")\n",
    "    plt.ylabel(\"Accuracy (in %)\")\n",
    "      \n",
    "    # visualizing the plot\n",
    "    plt.show()"
   ]
  },
  {
   "cell_type": "code",
   "execution_count": null,
   "metadata": {},
   "outputs": [],
   "source": [
    "\"\"\"#bff1f1\n",
    "#fadadd\n",
    "#ddfada\n",
    "sourajita dewasi9:47 PM\n",
    "#e7dafa\n",
    "#bb97f1\"\"\""
   ]
  },
  {
   "cell_type": "code",
   "execution_count": null,
   "metadata": {},
   "outputs": [],
   "source": [
    "plt.bar(df['Algorithms'], df['Accuracy'], color = ['#A52A2A','#00008B','#2E8B57'])\n",
    "fig = plt.figure(figsize =(15, 10))\n",
    "plt.title('Crop Suggestion Model')\n",
    " \n",
    "# Show Plot\n",
    "plt.show()"
   ]
  },
  {
   "cell_type": "code",
   "execution_count": null,
   "metadata": {},
   "outputs": [],
   "source": [
    "import numpy as np\n",
    "import matplotlib.pyplot as plt\n",
    " \n",
    "# set width of bar\n",
    "barWidth = 0.25\n",
    "fig = plt.subplots(figsize =(10, 6))\n",
    " \n",
    "# set height of bar\n",
    "Algorithms = ['Random Forest', 'Decision-tree', 'KNN Classifier']\n",
    "Accuracy = [b1, b2, b3]\n",
    "Standard_Deviation = [c1,c2,c3]\n",
    " \n",
    "# Set position of bar on X axis\n",
    "br1 = np.arange(len(Accuracy))\n",
    "br2 = [x + barWidth for x in br1]\n",
    "br3 = [x + barWidth for x in br2]\n",
    " \n",
    "# Make the plot\n",
    "plt.bar(br1, Accuracy, color ='blue', width = barWidth,\n",
    "        edgecolor ='grey', label ='Accuracy')\n",
    "plt.bar(br2, Standard_Deviation, color ='maroon', width = barWidth,\n",
    "        edgecolor ='grey', label ='Standard Devation')\n",
    " \n",
    "# Adding Xticks\n",
    "plt.xlabel('Algorithms', fontweight ='bold', fontsize = 10)\n",
    "plt.ylabel('Accuracy (in %)', fontweight ='bold', fontsize = 10)\n",
    "plt.xticks([r + barWidth for r in range(len(Accuracy))],\n",
    "        Algorithms)\n",
    " \n",
    "plt.legend()\n",
    "plt.show()"
   ]
  },
  {
   "cell_type": "code",
   "execution_count": 57,
   "metadata": {},
   "outputs": [],
   "source": [
    "# Saving the trained Random Forest model\n",
    "import pickle\n",
    "# Dump the trained Naive Bayes classifier with Pickle\n",
    "RF_pkl_filename = 'RandomForest.pkl'\n",
    "# Open the file to save as pkl file\n",
    "RF_Model_pkl = open(RF_pkl_filename, 'wb')\n",
    "pickle.dump(multi_target_forest, RF_Model_pkl)\n",
    "# Close the pickle instances\n",
    "RF_Model_pkl.close()"
   ]
  },
  {
   "cell_type": "code",
   "execution_count": null,
   "metadata": {},
   "outputs": [],
   "source": []
  }
 ],
 "metadata": {
  "colab": {
   "collapsed_sections": [],
   "name": "CropYieldPrediction.ipynb",
   "provenance": []
  },
  "kernelspec": {
   "display_name": "ml",
   "language": "python",
   "name": "ml"
  },
  "language_info": {
   "codemirror_mode": {
    "name": "ipython",
    "version": 3
   },
   "file_extension": ".py",
   "mimetype": "text/x-python",
   "name": "python",
   "nbconvert_exporter": "python",
   "pygments_lexer": "ipython3",
   "version": "3.11.3"
  }
 },
 "nbformat": 4,
 "nbformat_minor": 1
}
